{
 "cells": [
  {
   "cell_type": "code",
   "execution_count": 1,
   "id": "308f4a17",
   "metadata": {},
   "outputs": [],
   "source": [
    "import pandas as pd\n",
    "import json\n",
    "from sqlalchemy import create_engine"
   ]
  },
  {
   "cell_type": "code",
   "execution_count": 3,
   "id": "f78d3a67",
   "metadata": {},
   "outputs": [],
   "source": [
    "def read_json_file(file_path):\n",
    "    data = []\n",
    "    with open(file_path, 'r', encoding='utf-8', errors='ignore') as f:\n",
    "        for line in f:\n",
    "            try:\n",
    "                data.append(json.loads(line))\n",
    "            except json.JSONDecodeError:\n",
    "                print(f\"Skipping problematic line in {file_path}\")\n",
    "    return pd.DataFrame(data)\n",
    "\n",
    "# Read each JSON file\n",
    "business_df = read_json_file('yelp_academic_dataset_business.json')\n",
    "checkin_df = read_json_file('yelp_academic_dataset_checkin.json')\n",
    "review_df = read_json_file('yelp_academic_dataset_review.json')\n",
    "tip_df = read_json_file('yelp_academic_dataset_tip.json')\n",
    "user_df = read_json_file('yelp_academic_dataset_user.json')"
   ]
  },
  {
   "cell_type": "code",
   "execution_count": 4,
   "id": "37439b81",
   "metadata": {},
   "outputs": [
    {
     "name": "stdout",
     "output_type": "stream",
     "text": [
      "(150346, 14)\n",
      "(131930, 2)\n",
      "(6990280, 9)\n",
      "(908915, 5)\n",
      "(1987897, 22)\n"
     ]
    }
   ],
   "source": [
    "print(business_df.shape)\n",
    "print(checkin_df.shape)\n",
    "print(review_df.shape)\n",
    "print(tip_df.shape)\n",
    "print(user_df.shape)"
   ]
  },
  {
   "cell_type": "code",
   "execution_count": 5,
   "id": "5b6960c8",
   "metadata": {},
   "outputs": [],
   "source": [
    "business_df.drop(['attributes', 'hours'], axis=1, inplace=True)\n",
    "\n",
    "engine = create_engine('sqlite:///yelp.db')\n",
    "\n",
    "def load_dataframe(df, table_name, engine):\n",
    "    df.to_sql(table_name, con=engine, if_exists='replace', index=False)"
   ]
  },
  {
   "cell_type": "code",
   "execution_count": 6,
   "id": "df2a8cbe",
   "metadata": {},
   "outputs": [],
   "source": [
    "# Load each DataFrame into a separate table\n",
    "load_dataframe(business_df, 'business', engine)\n",
    "load_dataframe(review_df, 'review', engine)\n",
    "load_dataframe(user_df, 'user', engine)\n",
    "load_dataframe(tip_df, 'tip', engine)\n",
    "load_dataframe(checkin_df, 'checkin', engine)"
   ]
  },
  {
   "cell_type": "code",
   "execution_count": null,
   "id": "e8eb8b2e",
   "metadata": {},
   "outputs": [],
   "source": []
  }
 ],
 "metadata": {
  "kernelspec": {
   "display_name": "Python 3 (ipykernel)",
   "language": "python",
   "name": "python3"
  },
  "language_info": {
   "codemirror_mode": {
    "name": "ipython",
    "version": 3
   },
   "file_extension": ".py",
   "mimetype": "text/x-python",
   "name": "python",
   "nbconvert_exporter": "python",
   "pygments_lexer": "ipython3",
   "version": "3.11.5"
  }
 },
 "nbformat": 4,
 "nbformat_minor": 5
}
